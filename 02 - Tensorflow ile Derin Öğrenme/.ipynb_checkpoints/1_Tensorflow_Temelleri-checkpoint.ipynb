{
 "cells": [
  {
   "cell_type": "code",
   "execution_count": 1,
   "id": "8e3b5435",
   "metadata": {},
   "outputs": [],
   "source": [
    "import tensorflow as tf"
   ]
  },
  {
   "cell_type": "code",
   "execution_count": 3,
   "id": "33bb4cbd",
   "metadata": {},
   "outputs": [
    {
     "name": "stdout",
     "output_type": "stream",
     "text": [
      "tf.Tensor([[4.]], shape=(1, 1), dtype=float32)\n"
     ]
    }
   ],
   "source": [
    "matrix = tf.constant(4, shape=(1, 1), dtype=tf.float32) # sabit bir tensör oluşturur.\n",
    "print(matrix)"
   ]
  },
  {
   "cell_type": "code",
   "execution_count": 4,
   "id": "bfdc0507",
   "metadata": {},
   "outputs": [
    {
     "name": "stdout",
     "output_type": "stream",
     "text": [
      "tf.Tensor(\n",
      "[[1 2 3]\n",
      " [4 5 6]], shape=(2, 3), dtype=int32)\n"
     ]
    }
   ],
   "source": [
    "matrix = tf.constant([[1, 2, 3], [4, 5, 6]], shape=(2, 3))\n",
    "print(matrix)"
   ]
  },
  {
   "cell_type": "code",
   "execution_count": 5,
   "id": "2f77d219",
   "metadata": {},
   "outputs": [
    {
     "name": "stdout",
     "output_type": "stream",
     "text": [
      "tf.Tensor(\n",
      "[[1. 0. 0.]\n",
      " [0. 1. 0.]\n",
      " [0. 0. 1.]], shape=(3, 3), dtype=float32)\n"
     ]
    }
   ],
   "source": [
    "matrix = tf.eye(3) # birim matris\n",
    "print(matrix)"
   ]
  },
  {
   "cell_type": "code",
   "execution_count": 13,
   "id": "0eca2a02",
   "metadata": {},
   "outputs": [
    {
     "name": "stdout",
     "output_type": "stream",
     "text": [
      "tf.Tensor(\n",
      "[[1. 1. 1.]\n",
      " [1. 1. 1.]\n",
      " [1. 1. 1.]\n",
      " [1. 1. 1.]], shape=(4, 3), dtype=float32)\n"
     ]
    }
   ],
   "source": [
    "matrix = tf.ones((4, 3)) # 1'lik matris\n",
    "print(matrix)"
   ]
  },
  {
   "cell_type": "code",
   "execution_count": 14,
   "id": "75cf7c52",
   "metadata": {},
   "outputs": [
    {
     "name": "stdout",
     "output_type": "stream",
     "text": [
      "tf.Tensor(\n",
      "[[[0. 0. 0. 0. 0.]\n",
      "  [0. 0. 0. 0. 0.]]\n",
      "\n",
      " [[0. 0. 0. 0. 0.]\n",
      "  [0. 0. 0. 0. 0.]]\n",
      "\n",
      " [[0. 0. 0. 0. 0.]\n",
      "  [0. 0. 0. 0. 0.]]], shape=(3, 2, 5), dtype=float32)\n"
     ]
    }
   ],
   "source": [
    "matrix = tf.zeros((3, 2, 5)) # 0 matrisi\n",
    "print(matrix)"
   ]
  },
  {
   "cell_type": "code",
   "execution_count": 18,
   "id": "360d3cae",
   "metadata": {},
   "outputs": [
    {
     "name": "stdout",
     "output_type": "stream",
     "text": [
      "tf.Tensor(\n",
      "[[0.28615332 0.04525983]\n",
      " [0.22075832 0.32514632]], shape=(2, 2), dtype=float32)\n"
     ]
    }
   ],
   "source": [
    "matrix = tf.random.uniform((2, 2), minval=0, maxval=1) # Tek tip vir dağılımdan rastgele değerler verir.\n",
    "print(matrix)"
   ]
  },
  {
   "cell_type": "code",
   "execution_count": 19,
   "id": "dc961bf0",
   "metadata": {},
   "outputs": [
    {
     "name": "stdout",
     "output_type": "stream",
     "text": [
      "tf.Tensor(\n",
      "[[-0.61108762 -1.17557895  1.09052765]\n",
      " [ 0.57644486 -1.29571199  0.26528803]\n",
      " [ 0.05917209  0.13211615  0.52908313]], shape=(3, 3), dtype=float64)\n"
     ]
    }
   ],
   "source": [
    "matrix = tf.random.normal((3, 3), mean=0, stddev=1) # Normal bir dağılımdan rastgele değerler verir.\n",
    "print(tf.cast(matrix, dtype=tf.float64))"
   ]
  },
  {
   "cell_type": "code",
   "execution_count": 21,
   "id": "d9c3a79c",
   "metadata": {},
   "outputs": [
    {
     "name": "stdout",
     "output_type": "stream",
     "text": [
      "tf.Tensor([0 2 4 6 8], shape=(5,), dtype=int32)\n"
     ]
    }
   ],
   "source": [
    "matrix = tf.range(9) # Bir sayı dizisi oluşturur.\n",
    "matrix = tf.range(start=0, limit=10, delta=2)\n",
    "print(matrix)"
   ]
  },
  {
   "cell_type": "markdown",
   "id": "8bfa9334",
   "metadata": {},
   "source": [
    "### Matematik İşlemleri"
   ]
  },
  {
   "cell_type": "code",
   "execution_count": 22,
   "id": "bee62409",
   "metadata": {},
   "outputs": [],
   "source": [
    "matrix1 = tf.constant([1, 2, 3])\n",
    "matrix2 = tf.constant([9, 8, 7])"
   ]
  },
  {
   "cell_type": "code",
   "execution_count": 23,
   "id": "2af0b9b7",
   "metadata": {},
   "outputs": [
    {
     "name": "stdout",
     "output_type": "stream",
     "text": [
      "tf.Tensor([10 10 10], shape=(3,), dtype=int32)\n",
      "tf.Tensor([10 10 10], shape=(3,), dtype=int32)\n"
     ]
    }
   ],
   "source": [
    "matrix3 = tf.add(matrix1, matrix2) # Toplama işlemi\n",
    "print(matrix3)\n",
    "matrix3 = matrix1 + matrix2\n",
    "print(matrix3)"
   ]
  },
  {
   "cell_type": "code",
   "execution_count": 24,
   "id": "fcda5a13",
   "metadata": {},
   "outputs": [
    {
     "name": "stdout",
     "output_type": "stream",
     "text": [
      "tf.Tensor([-8 -6 -4], shape=(3,), dtype=int32)\n",
      "tf.Tensor([-8 -6 -4], shape=(3,), dtype=int32)\n"
     ]
    }
   ],
   "source": [
    "matrix3 = tf.subtract(matrix1, matrix2) # Çıkarma işlemi\n",
    "print(matrix3)\n",
    "matrix3 = matrix1 - matrix2\n",
    "print(matrix3)"
   ]
  },
  {
   "cell_type": "code",
   "execution_count": 25,
   "id": "1502128f",
   "metadata": {},
   "outputs": [
    {
     "name": "stdout",
     "output_type": "stream",
     "text": [
      "tf.Tensor([0.11111111 0.25       0.42857143], shape=(3,), dtype=float64)\n",
      "tf.Tensor([0.11111111 0.25       0.42857143], shape=(3,), dtype=float64)\n"
     ]
    }
   ],
   "source": [
    "matrix3 = tf.divide(matrix1, matrix2) # Bölme işlemi\n",
    "print(matrix3)\n",
    "matrix3 = matrix1 / matrix2\n",
    "print(matrix3)"
   ]
  },
  {
   "cell_type": "code",
   "execution_count": 26,
   "id": "e5b1af5a",
   "metadata": {},
   "outputs": [
    {
     "name": "stdout",
     "output_type": "stream",
     "text": [
      "tf.Tensor([ 9 16 21], shape=(3,), dtype=int32)\n",
      "tf.Tensor([ 9 16 21], shape=(3,), dtype=int32)\n"
     ]
    }
   ],
   "source": [
    "matrix3 = tf.multiply(matrix1, matrix2) # Çarpma işlemi\n",
    "print(matrix3)\n",
    "matrix3 = matrix1 * matrix2\n",
    "print(matrix3)"
   ]
  },
  {
   "cell_type": "code",
   "execution_count": null,
   "id": "f9243c32",
   "metadata": {},
   "outputs": [],
   "source": []
  }
 ],
 "metadata": {
  "kernelspec": {
   "display_name": "Python 3 (ipykernel)",
   "language": "python",
   "name": "python3"
  },
  "language_info": {
   "codemirror_mode": {
    "name": "ipython",
    "version": 3
   },
   "file_extension": ".py",
   "mimetype": "text/x-python",
   "name": "python",
   "nbconvert_exporter": "python",
   "pygments_lexer": "ipython3",
   "version": "3.8.15"
  }
 },
 "nbformat": 4,
 "nbformat_minor": 5
}
