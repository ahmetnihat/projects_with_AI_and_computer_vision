{
 "cells": [
  {
   "cell_type": "markdown",
   "id": "90c1437b",
   "metadata": {},
   "source": [
    "### Kütüphaneler"
   ]
  },
  {
   "cell_type": "code",
   "execution_count": 1,
   "id": "2d6ee42d",
   "metadata": {},
   "outputs": [],
   "source": [
    "import torch\n",
    "import torch.nn as nn \n",
    "import torch.optim as optim  \n",
    "import torchvision.transforms as transforms \n",
    "import torchvision\n",
    "import os\n",
    "import pandas as pd\n",
    "from torch.utils.data import (Dataset,DataLoader) \n",
    "from skimage import io\n",
    "import time\n",
    "\n",
    "import warnings\n",
    "warnings.filterwarnings(\"ignore\")"
   ]
  },
  {
   "cell_type": "markdown",
   "id": "21180c57",
   "metadata": {},
   "source": [
    "### Veriyi Dahil Etme"
   ]
  },
  {
   "cell_type": "code",
   "execution_count": 2,
   "id": "04275df6",
   "metadata": {},
   "outputs": [],
   "source": [
    "class veri(Dataset):\n",
    "    def __init__(self, csv_file, root_dir, transform=None):\n",
    "        self.annotations = pd.read_csv(csv_file)\n",
    "        self.root_dir = root_dir\n",
    "        self.transform = transform\n",
    "        \n",
    "    def __len__(self):\n",
    "        return len(self.annotations)\n",
    "    \n",
    "    def __getitem__(self, index):\n",
    "        img_path = os.path.join(self.root_dir, self.annotations.iloc[index, 0])\n",
    "        image = io.imread(img_path)\n",
    "        y_label = torch.tensor(int(self.annotations.iloc[index, 1]))\n",
    "        \n",
    "        if self.transform:\n",
    "            image = self.transform(image)\n",
    "            \n",
    "        return (image, y_label)"
   ]
  },
  {
   "cell_type": "markdown",
   "id": "be73c816",
   "metadata": {},
   "source": [
    "### Data Augmantation (Veri Artırma) ve Veriyi Hazırlama"
   ]
  },
  {
   "cell_type": "code",
   "execution_count": 5,
   "id": "56e6ef5a",
   "metadata": {},
   "outputs": [],
   "source": [
    "import torchvision.transforms as transforms\n",
    "\n",
    "veri_artırma = transforms.Compose([\n",
    "    \n",
    "    transforms.ToPILImage(),\n",
    "    \n",
    "    transforms.Resize((500, 500)),\n",
    "    \n",
    "    #transforms.CenterCrop(),\n",
    "    \n",
    "    #transforms.RandomCrop((32, 32)),\n",
    "    \n",
    "    transforms.ColorJitter(brightness = 0.5),\n",
    "    \n",
    "    transforms.RandomRotation(degrees = 45),\n",
    "    \n",
    "    transforms.RandomVerticalFlip(p = 0.05),\n",
    "    \n",
    "    #transforms.RandomGrayscale(p = 0.2),\n",
    "    \n",
    "    transforms.ToTensor(),\n",
    "    \n",
    "    transforms.Normalize(mean = [0.5, 0.5, 0.5], std = [0.5, 0.5, 0.5]),\n",
    "    \n",
    "    #transforms.GaussianBlur(kernel_size = 1)\n",
    "    \n",
    "    #transforms.Grayscale(num_output_channels = 3),\n",
    "    \n",
    "    #transforms.RandomPerspective()\n",
    "      \n",
    "])"
   ]
  },
  {
   "cell_type": "code",
   "execution_count": 7,
   "id": "e37f2748",
   "metadata": {},
   "outputs": [],
   "source": [
    "dataset = veri(\n",
    "    csv_file = \"f113.csv\",\n",
    "    root_dir = r\"f1_classification/\",\n",
    "    transform = veri_artırma\n",
    ")"
   ]
  },
  {
   "cell_type": "code",
   "execution_count": 13,
   "id": "94d84460",
   "metadata": {},
   "outputs": [],
   "source": [
    "from torchvision.utils import save_image\n",
    "\n",
    "if not(os.path.isdir('/ImageOutput')):\n",
    "    os.mkdir('/ImageOutput')\n",
    "\n",
    "foto_sayı = 0\n",
    "\n",
    "for _ in range(1):\n",
    "    for image, label in dataset:\n",
    "        save_image(image, \"img/img\" + str(foto_sayı) + \".jpg\")\n",
    "        foto_sayı += 1"
   ]
  },
  {
   "cell_type": "code",
   "execution_count": null,
   "id": "aa2bcdbf",
   "metadata": {},
   "outputs": [],
   "source": []
  }
 ],
 "metadata": {
  "kernelspec": {
   "display_name": "Python 3",
   "language": "python",
   "name": "python3"
  },
  "language_info": {
   "codemirror_mode": {
    "name": "ipython",
    "version": 3
   },
   "file_extension": ".py",
   "mimetype": "text/x-python",
   "name": "python",
   "nbconvert_exporter": "python",
   "pygments_lexer": "ipython3",
   "version": "3.8.10"
  }
 },
 "nbformat": 4,
 "nbformat_minor": 5
}
